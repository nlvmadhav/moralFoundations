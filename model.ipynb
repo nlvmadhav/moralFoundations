{
 "cells": [
  {
   "cell_type": "code",
   "execution_count": 29,
   "metadata": {},
   "outputs": [],
   "source": [
    "import pandas as pd\n",
    "import matplotlib.pyplot as plt\n",
    "import seaborn as sns\n",
    "from sklearn.model_selection import train_test_split\n",
    "from sklearn.preprocessing import LabelEncoder\n",
    "from sklearn.svm import SVC\n",
    "from sklearn.linear_model import LogisticRegression\n",
    "from sklearn.metrics import accuracy_score, confusion_matrix\n",
    "from sklearn.feature_extraction.text import TfidfVectorizer\n",
    "import torch\n",
    "from transformers import BertTokenizer, BertModel\n",
    "import numpy as np\n",
    "import re"
   ]
  },
  {
   "cell_type": "code",
   "execution_count": 30,
   "metadata": {},
   "outputs": [],
   "source": [
    "df = pd.read_csv('dataset.csv')"
   ]
  },
  {
   "cell_type": "code",
   "execution_count": 31,
   "metadata": {},
   "outputs": [
    {
     "name": "stdout",
     "output_type": "stream",
     "text": [
      "  Corpus                                         Tweet Text  Stance Foundation\n",
      "0    EVM  #EVMs are easy to manipulate . This was demons...       1   Fairness\n",
      "1    CAA                    Congratulations\\r\\nAa gya  #CAA       1    Loyalty\n",
      "2    CAA  My dear Indian muslims we are 35 crores of pop...      -1    Loyalty\n",
      "3    CAA  This guy was part of anti Hindu protests in th...       1  Authority\n",
      "4    CAA  Woman protester breaks down while speaking to ...       0       Care\n",
      "<class 'pandas.core.frame.DataFrame'>\n",
      "RangeIndex: 274 entries, 0 to 273\n",
      "Data columns (total 4 columns):\n",
      " #   Column      Non-Null Count  Dtype \n",
      "---  ------      --------------  ----- \n",
      " 0   Corpus      274 non-null    object\n",
      " 1   Tweet Text  274 non-null    object\n",
      " 2   Stance      274 non-null    int64 \n",
      " 3   Foundation  273 non-null    object\n",
      "dtypes: int64(1), object(3)\n",
      "memory usage: 8.7+ KB\n",
      "None\n",
      "           Stance\n",
      "count  274.000000\n",
      "mean    -0.069343\n",
      "std      0.837934\n",
      "min     -1.000000\n",
      "25%     -1.000000\n",
      "50%      0.000000\n",
      "75%      1.000000\n",
      "max      1.000000\n"
     ]
    }
   ],
   "source": [
    "print(df.head())  # Display first few rows\n",
    "print(df.info())  # Display dataset info (types, nulls, etc.)\n",
    "print(df.describe())  # Summary statistics"
   ]
  },
  {
   "cell_type": "code",
   "execution_count": null,
   "metadata": {},
   "outputs": [
    {
     "data": {
      "image/png": "[encoded data removed]",
      "text/plain": [
       "<Figure size 576x432 with 1 Axes>"
      ]
     },
     "metadata": {
      "needs_background": "light"
     },
     "output_type": "display_data"
    }
   ],
   "source": [
    "plt.figure(figsize=(8, 6))\n",
    "sns.countplot(x='Corpus....................................................................................................................................................................../-', data=df)\n",
    "plt.title('Distribution of Classes')\n",
    "plt.show()"
   ]
  },
  {
   "cell_type": "code",
   "execution_count": 34,
   "metadata": {},
   "outputs": [
    {
     "data": {
      "image/png": "[encoded data removed]",
      "text/plain": [
       "<Figure size 576x432 with 1 Axes>"
      ]
     },
     "metadata": {
      "needs_background": "light"
     },
     "output_type": "display_data"
    }
   ],
   "source": [
    "plt.figure(figsize=(8, 6))\n",
    "sns.countplot(x='Foundation', data=df)\n",
    "plt.title('Distribution of Moral Foundations')\n",
    "plt.show()"
   ]
  },
  {
   "cell_type": "code",
   "execution_count": 35,
   "metadata": {},
   "outputs": [],
   "source": [
    "def clean_tweet(tweet):\n",
    "    tweet = re.sub(r'@[\\w_]+', '', tweet)  # Remove @mentions\n",
    "    tweet = re.sub(r'#\\w+', '', tweet)     # Remove hashtags\n",
    "    tweet = re.sub(r'http\\S+|www\\S+', '', tweet)  # Remove URLs\n",
    "    tweet = re.sub(r'[^A-Za-z0-9\\s]+', '', tweet)  # Remove special characters\n",
    "    tweet = tweet.strip().lower()  # Strip leading/trailing spaces and lowercase\n",
    "    return tweet\n"
   ]
  },
  {
   "cell_type": "code",
   "execution_count": 38,
   "metadata": {},
   "outputs": [],
   "source": [
    "df['cleaned_tweet'] = df['Tweet Text'].apply(clean_tweet)\n",
    "#Preprocessing\n",
    "df = df.dropna()  # Handle missing values"
   ]
  },
  {
   "cell_type": "code",
   "execution_count": 40,
   "metadata": {},
   "outputs": [
    {
     "name": "stderr",
     "output_type": "stream",
     "text": [
      "C:\\Users\\User\\AppData\\Local\\Temp\\ipykernel_28124\\46444361.py:3: SettingWithCopyWarning: \n",
      "A value is trying to be set on a copy of a slice from a DataFrame.\n",
      "Try using .loc[row_indexer,col_indexer] = value instead\n",
      "\n",
      "See the caveats in the documentation: https://pandas.pydata.org/pandas-docs/stable/user_guide/indexing.html#returning-a-view-versus-a-copy\n",
      "  df['class_encoded'] = le_class.fit_transform(df['Corpus'])\n"
     ]
    }
   ],
   "source": [
    "# Label encoding for 'class' and 'foundation' columns\n",
    "le_class = LabelEncoder()\n",
    "df['class_encoded'] = le_class.fit_transform(df['Corpus'])\n"
   ]
  },
  {
   "cell_type": "code",
   "execution_count": 41,
   "metadata": {},
   "outputs": [],
   "source": [
    "#TF-IDF Encoding\n",
    "tfidf_vectorizer = TfidfVectorizer(max_features=5000)\n",
    "X_tfidf = tfidf_vectorizer.fit_transform(df['cleaned_tweet']).toarray()"
   ]
  },
  {
   "cell_type": "code",
   "execution_count": 42,
   "metadata": {},
   "outputs": [],
   "source": [
    "#BERT Encoding\n",
    "tokenizer = BertTokenizer.from_pretrained('bert-base-uncased')\n",
    "bert_model = BertModel.from_pretrained('bert-base-uncased')"
   ]
  },
  {
   "cell_type": "code",
   "execution_count": 43,
   "metadata": {},
   "outputs": [],
   "source": [
    "def get_bert_embeddings(texts):\n",
    "    input_ids = tokenizer(texts, padding=True, truncation=True, return_tensors='pt', max_length=128)\n",
    "    with torch.no_grad():\n",
    "        outputs = bert_model(**input_ids)\n",
    "    embeddings = outputs.last_hidden_state[:, 0, :].numpy()  # [CLS] token embeddings\n",
    "    return embeddings"
   ]
  },
  {
   "cell_type": "code",
   "execution_count": 44,
   "metadata": {},
   "outputs": [],
   "source": [
    "X_bert = get_bert_embeddings(df['cleaned_tweet'].tolist())"
   ]
  },
  {
   "cell_type": "code",
   "execution_count": 45,
   "metadata": {},
   "outputs": [],
   "source": [
    "# Step 7: Train-Test Split\n",
    "X_train, X_test, y_train, y_test = train_test_split(X_bert, y_class, test_size=0.2, random_state=42)"
   ]
  },
  {
   "cell_type": "code",
   "execution_count": 46,
   "metadata": {},
   "outputs": [],
   "source": [
    "#Train-Test Split\n",
    "X_train_tfidf, X_test_tfidf, y_train, y_test = train_test_split(X_tfidf, df['class_encoded'], test_size=0.2, random_state=42)\n",
    "X_train_bert, X_test_bert, _, _ = train_test_split(X_bert, df['class_encoded'], test_size=0.2, random_state=42)"
   ]
  },
  {
   "cell_type": "code",
   "execution_count": 47,
   "metadata": {},
   "outputs": [
    {
     "name": "stdout",
     "output_type": "stream",
     "text": [
      "SVM Accuracy with TF-IDF:  0.6\n"
     ]
    }
   ],
   "source": [
    "# Step 9: Model Training and Testing with TF-IDF\n",
    "svm_tfidf = SVC(kernel='linear')\n",
    "svm_tfidf.fit(X_train_tfidf, y_train)\n",
    "svm_tfidf_predictions = svm_tfidf.predict(X_test_tfidf)\n",
    "print(\"SVM Accuracy with TF-IDF: \", accuracy_score(y_test, svm_tfidf_predictions))"
   ]
  },
  {
   "cell_type": "code",
   "execution_count": 48,
   "metadata": {},
   "outputs": [
    {
     "name": "stdout",
     "output_type": "stream",
     "text": [
      "Logistic Regression Accuracy with TF-IDF:  0.45454545454545453\n"
     ]
    }
   ],
   "source": [
    "log_reg_tfidf = LogisticRegression(max_iter=1000)\n",
    "log_reg_tfidf.fit(X_train_tfidf, y_train)\n",
    "log_reg_tfidf_predictions = log_reg_tfidf.predict(X_test_tfidf)\n",
    "print(\"Logistic Regression Accuracy with TF-IDF: \", accuracy_score(y_test, log_reg_tfidf_predictions))"
   ]
  },
  {
   "cell_type": "code",
   "execution_count": 49,
   "metadata": {},
   "outputs": [
    {
     "name": "stdout",
     "output_type": "stream",
     "text": [
      "SVM Accuracy with BERT:  0.7272727272727273\n"
     ]
    }
   ],
   "source": [
    "# Step 10: Model Training and Testing with BERT\n",
    "svm_bert = SVC(kernel='linear')\n",
    "svm_bert.fit(X_train_bert, y_train)\n",
    "svm_bert_predictions = svm_bert.predict(X_test_bert)\n",
    "print(\"SVM Accuracy with BERT: \", accuracy_score(y_test, svm_bert_predictions))"
   ]
  },
  {
   "cell_type": "code",
   "execution_count": 50,
   "metadata": {},
   "outputs": [
    {
     "name": "stdout",
     "output_type": "stream",
     "text": [
      "Logistic Regression Accuracy with BERT:  0.6727272727272727\n"
     ]
    }
   ],
   "source": [
    "log_reg_bert = LogisticRegression(max_iter=1000)\n",
    "log_reg_bert.fit(X_train_bert, y_train)\n",
    "log_reg_bert_predictions = log_reg_bert.predict(X_test_bert)\n",
    "print(\"Logistic Regression Accuracy with BERT: \", accuracy_score(y_test, log_reg_bert_predictions))"
   ]
  },
  {
   "cell_type": "code",
   "execution_count": 51,
   "metadata": {},
   "outputs": [
    {
     "data": {
      "image/png": "[encoded data removed]",
      "text/plain": [
       "<Figure size 576x432 with 2 Axes>"
      ]
     },
     "metadata": {
      "needs_background": "light"
     },
     "output_type": "display_data"
    }
   ],
   "source": [
    "# Step 11: Model Evaluation\n",
    "# Confusion Matrix for SVM with BERT\n",
    "cm_bert = confusion_matrix(y_test, svm_bert_predictions)\n",
    "plt.figure(figsize=(8, 6))\n",
    "sns.heatmap(cm_bert, annot=True, fmt='d', cmap='Blues', xticklabels=le_class.classes_, yticklabels=le_class.classes_)\n",
    "plt.title('Confusion Matrix for SVM with BERT')\n",
    "plt.xlabel('Predicted')\n",
    "plt.ylabel('True')\n",
    "plt.show()"
   ]
  },
  {
   "cell_type": "code",
   "execution_count": 52,
   "metadata": {},
   "outputs": [
    {
     "data": {
      "image/png": "[encoded data removed]",
      "text/plain": [
       "<Figure size 576x432 with 2 Axes>"
      ]
     },
     "metadata": {
      "needs_background": "light"
     },
     "output_type": "display_data"
    }
   ],
   "source": [
    "# Confusion Matrix for SVM with TF-IDF\n",
    "cm_tfidf = confusion_matrix(y_test, svm_tfidf_predictions)\n",
    "plt.figure(figsize=(8, 6))\n",
    "sns.heatmap(cm_tfidf, annot=True, fmt='d', cmap='Greens', xticklabels=le_class.classes_, yticklabels=le_class.classes_)\n",
    "plt.title('Confusion Matrix for SVM with TF-IDF')\n",
    "plt.xlabel('Predicted')\n",
    "plt.ylabel('True')\n",
    "plt.show()"
   ]
  },
  {
   "cell_type": "code",
   "execution_count": 53,
   "metadata": {},
   "outputs": [],
   "source": [
    "# Step 12: Cross-Validation\n",
    "from sklearn.model_selection import cross_val_score"
   ]
  },
  {
   "cell_type": "code",
   "execution_count": 54,
   "metadata": {},
   "outputs": [
    {
     "name": "stdout",
     "output_type": "stream",
     "text": [
      "SVM Cross-validation scores with BERT: [0.65454545 0.72727273 0.70909091 0.83333333 0.7037037 ]\n"
     ]
    }
   ],
   "source": [
    "# Cross-validation for SVM with BERT\n",
    "svm_bert_cv_scores = cross_val_score(svm_bert, X_bert, df['class_encoded'], cv=5)\n",
    "print(f\"SVM Cross-validation scores with BERT: {svm_bert_cv_scores}\")"
   ]
  },
  {
   "cell_type": "code",
   "execution_count": 55,
   "metadata": {},
   "outputs": [
    {
     "name": "stdout",
     "output_type": "stream",
     "text": [
      "SVM Cross-validation scores with TF-IDF: [0.54545455 0.58181818 0.65454545 0.57407407 0.64814815]\n"
     ]
    }
   ],
   "source": [
    "# Cross-validation for SVM with TF-IDF\n",
    "svm_tfidf_cv_scores = cross_val_score(svm_tfidf, X_tfidf, df['class_encoded'], cv=5)\n",
    "print(f\"SVM Cross-validation scores with TF-IDF: {svm_tfidf_cv_scores}\")"
   ]
  }
 ],
 "metadata": {
  "kernelspec": {
   "display_name": "Python 3",
   "language": "python",
   "name": "python3"
  },
  "language_info": {
   "codemirror_mode": {
    "name": "ipython",
    "version": 3
   },
   "file_extension": ".py",
   "mimetype": "text/x-python",
   "name": "python",
   "nbconvert_exporter": "python",
   "pygments_lexer": "ipython3",
   "version": "3.10.4"
  }
 },
 "nbformat": 4,
 "nbformat_minor": 2
}
